{
 "cells": [
  {
   "cell_type": "code",
   "execution_count": 1,
   "metadata": {},
   "outputs": [],
   "source": [
    "import sys, os"
   ]
  },
  {
   "cell_type": "code",
   "execution_count": null,
   "metadata": {},
   "outputs": [],
   "source": [
    "# ! pip install smfishHmrf"
   ]
  },
  {
   "cell_type": "code",
   "execution_count": 6,
   "metadata": {},
   "outputs": [],
   "source": [
    "\n",
    "sys.path.append('/home/abdelmounim.essabbar/Projects/mosna_benchmark/benchmarking/hmrf/')\n",
    "\n",
    "import hmrf_python_test"
   ]
  },
  {
   "cell_type": "code",
   "execution_count": 7,
   "metadata": {},
   "outputs": [],
   "source": [
    "\n",
    "import sys\n",
    "import math\n",
    "import os\n",
    "import numpy as np\n",
    "import scipy\n",
    "import scipy.stats\n",
    "from scipy.stats import zscore\n",
    "from scipy.spatial.distance import euclidean,squareform,pdist\n",
    "sys.setrecursionlimit(10000)\n",
    "import smfishHmrf.reader as reader\n",
    "from smfishHmrf.HMRFInstance import HMRFInstance\n",
    "from smfishHmrf.DatasetMatrix import DatasetMatrix, DatasetMatrixSingleField\n",
    "\n",
    "\n",
    "import matplotlib.pyplot as plt\n"
   ]
  },
  {
   "cell_type": "code",
   "execution_count": 8,
   "metadata": {},
   "outputs": [
    {
     "name": "stdout",
     "output_type": "stream",
     "text": [
      "Our base directory is set to /home/abdelmounim.essabbar/Projects/mosna_benchmark/benchmarking/notebooks\n",
      "Our input data directory is set to /home/abdelmounim.essabbar/Projects/mosna_benchmark/benchmarking/notebooks/data\n",
      "Our output directory is set to /home/abdelmounim.essabbar/Projects/mosna_benchmark/benchmarking/notebooks/output\n"
     ]
    },
    {
     "ename": "FileNotFoundError",
     "evalue": "[Errno 2] No such file or directory: '/home/abdelmounim.essabbar/Projects/mosna_benchmark/benchmarking/notebooks/data/genes'",
     "output_type": "error",
     "traceback": [
      "\u001b[0;31m---------------------------------------------------------------------------\u001b[0m",
      "\u001b[0;31mFileNotFoundError\u001b[0m                         Traceback (most recent call last)",
      "Cell \u001b[0;32mIn[8], line 15\u001b[0m\n\u001b[1;32m     13\u001b[0m \u001b[38;5;66;03m# Get file containing gene names\u001b[39;00m\n\u001b[1;32m     14\u001b[0m file_genes \u001b[38;5;241m=\u001b[39m os\u001b[38;5;241m.\u001b[39mpath\u001b[38;5;241m.\u001b[39mjoin(input_data_dir, \u001b[38;5;124m\"\u001b[39m\u001b[38;5;124mgenes\u001b[39m\u001b[38;5;124m\"\u001b[39m)\n\u001b[0;32m---> 15\u001b[0m genes \u001b[38;5;241m=\u001b[39m reader\u001b[38;5;241m.\u001b[39mread_genes(file_genes)\n\u001b[1;32m     17\u001b[0m \u001b[38;5;28mprint\u001b[39m(genes)\n\u001b[1;32m     19\u001b[0m \u001b[38;5;66;03m# Get spatial coordinates\u001b[39;00m\n",
      "File \u001b[0;32m~/anaconda3/lib/python3.11/site-packages/smfishHmrf/reader.py:38\u001b[0m, in \u001b[0;36mread_genes\u001b[0;34m(n)\u001b[0m\n\u001b[1;32m     37\u001b[0m \u001b[38;5;28;01mdef\u001b[39;00m \u001b[38;5;21mread_genes\u001b[39m(n):\n\u001b[0;32m---> 38\u001b[0m \tf \u001b[38;5;241m=\u001b[39m \u001b[38;5;28mopen\u001b[39m(n)\n\u001b[1;32m     39\u001b[0m \tgenes \u001b[38;5;241m=\u001b[39m []\n\u001b[1;32m     40\u001b[0m \t\u001b[38;5;28;01mfor\u001b[39;00m l \u001b[38;5;129;01min\u001b[39;00m f:\n",
      "\u001b[0;31mFileNotFoundError\u001b[0m: [Errno 2] No such file or directory: '/home/abdelmounim.essabbar/Projects/mosna_benchmark/benchmarking/notebooks/data/genes'"
     ]
    }
   ],
   "source": [
    "\n",
    "cortex_FDs = [0]  # Set field value, based on which to filter data\n",
    "\n",
    "# Set directory paths and print to check if correct\n",
    "base_dir = os.path.abspath(\".\")\n",
    "print(\"Our base directory is set to {}\".format(base_dir))\n",
    "\n",
    "input_data_dir = os.path.join(base_dir, \"data\")\n",
    "print(\"Our input data directory is set to {}\".format(input_data_dir))\n",
    "\n",
    "output_dir = os.path.join(base_dir, \"output\")\n",
    "print(\"Our output directory is set to {}\".format(output_dir))\n",
    "\n",
    "# Get file containing gene names\n",
    "file_genes = os.path.join(input_data_dir, \"genes\")\n",
    "genes = reader.read_genes(file_genes)\n",
    "\n",
    "print(genes)\n",
    "\n",
    "# Get spatial coordinates\n",
    "file_coords = os.path.join(input_data_dir, \"fcortex.coordinates.txt\")\n",
    "spatial_coords, field = reader.read_coord(file_coords)\n",
    "\n",
    "# Check if coordinates are stored correctly\n",
    "print(spatial_coords[:5])\n",
    "\n",
    "file_expression = os.path.join(input_data_dir, \"fcortex.expression.txt\")\n",
    "\n",
    "#expr = np.empty((len(genes), spatial_coords.shape[0]), dtype=\"float32\")\n",
    "#    for ind,g in enumerate(genes):\n",
    "#        expr[ind,:] = reader.read_expression(\"%s/pca_corrected/f%s.gene.%s.txt\" % (input_data_dir, directory, roi, g))\n",
    "\n",
    "expr = np.empty((len(genes), spatial_coords.shape[0]), dtype=\"float32\")\n",
    "for ind, g in enumerate(genes):\n",
    "    expr[ind, :] = reader.read_expression(file_expression)\n",
    "\n",
    "# Check if gene expression values stored correctly\n",
    "print(expr[:10])\n",
    "\n",
    "# Filter data based on field (FD) value\n",
    "good_i = np.array([i for i in range(spatial_coords.shape[0]) if field[i] in set(cortex_FDs)])\n",
    "expr = expr[:,good_i]\n",
    "spatial_coords = spatial_coords[good_i]\n",
    "field = field[good_i]\n",
    "\n",
    "print(field[:7])\n",
    "\n",
    "ngene = len(genes)\n",
    "ncell = spatial_coords.shape[0]\n",
    "\n",
    "print(\"The number of genes is {}\".format(ngene))\n",
    "\n",
    "expr = zscore(expr, axis=1)\t #z-score per row (gene)\n",
    "expr = zscore(expr, axis=0)  #z-score per column (cell)\n",
    "\n",
    "\n",
    "this_dset = DatasetMatrixSingleField(expr, genes, None, spatial_coords)\n",
    "this_dset.test_adjacency_list([0.3, 0.5, 1], metric=\"euclidean\")        #      are other metrics possible here? Running the script with delaunay for example, doesn't work\n",
    "this_dset.calc_neighbor_graph(0.3, metric=\"euclidean\")          # Calculate network\n",
    "this_dset.calc_independent_region()         # Determine the different regions in the network\n",
    "\n",
    "#new_genes = reader.read_genes(\"../HMRF.genes\")\n",
    "#new_dset = this_dset.subset_genes(new_genes)\n",
    "\n",
    "\n",
    "plt.scatter(spatial_coords[:, 0], spatial_coords[:, 1], c=this_dset.blocks, cmap='jet')\n",
    "plt.xlabel('X coordinate')\n",
    "plt.ylabel('Y coordinate')\n",
    "plt.title('Independent Regions')\n",
    "plt.colorbar()  # Show color scale\n",
    "\n",
    "plt.savefig(os.path.join(output_dir, \"independent_regions.png\"))\n",
    "print(\"Plot saved to:\", os.path.join(output_dir, \"independent_regions.png\"))\n",
    "\n",
    "print(\"Showing plot...\")\n",
    "plt.show()\n",
    "\n"
   ]
  }
 ],
 "metadata": {
  "kernelspec": {
   "display_name": "Python 3",
   "language": "python",
   "name": "python3"
  },
  "language_info": {
   "codemirror_mode": {
    "name": "ipython",
    "version": 3
   },
   "file_extension": ".py",
   "mimetype": "text/x-python",
   "name": "python",
   "nbconvert_exporter": "python",
   "pygments_lexer": "ipython3",
   "version": "3.11.5"
  }
 },
 "nbformat": 4,
 "nbformat_minor": 2
}
