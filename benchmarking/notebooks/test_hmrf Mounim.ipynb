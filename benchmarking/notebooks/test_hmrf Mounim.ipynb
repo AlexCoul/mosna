{
 "cells": [
  {
   "cell_type": "code",
   "execution_count": 2,
   "metadata": {},
   "outputs": [],
   "source": []
  },
  {
   "cell_type": "code",
   "execution_count": null,
   "metadata": {},
   "outputs": [],
   "source": [
    "# ! pip install smfishHmrf"
   ]
  },
  {
   "cell_type": "code",
   "execution_count": 3,
   "metadata": {},
   "outputs": [],
   "source": [
    "import sys, os\n",
    "\n",
    "sys.path.append('/home/abdelmounim.essabbar/Projects/mosna_benchmark/benchmarking/hmrf/')\n",
    "import hmrf_python_test"
   ]
  },
  {
   "cell_type": "code",
   "execution_count": 4,
   "metadata": {},
   "outputs": [],
   "source": [
    "\n",
    "import sys\n",
    "import math\n",
    "import os\n",
    "import numpy as np\n",
    "import scipy\n",
    "import scipy.stats\n",
    "from scipy.stats import zscore\n",
    "from scipy.spatial.distance import euclidean,squareform,pdist\n",
    "sys.setrecursionlimit(10000)\n",
    "import smfishHmrf.reader as reader\n",
    "from smfishHmrf.HMRFInstance import HMRFInstance\n",
    "from smfishHmrf.DatasetMatrix import DatasetMatrix, DatasetMatrixSingleField\n",
    "\n",
    "\n",
    "import matplotlib.pyplot as plt\n"
   ]
  },
  {
   "cell_type": "code",
   "execution_count": 9,
   "metadata": {},
   "outputs": [
    {
     "name": "stdout",
     "output_type": "stream",
     "text": [
      "['4931431F19Rik', '4932429P05Rik', 'Abca15', 'Abca9', 'Adcy4', 'Aldh3b2', 'Ankle1', 'Ano7', 'Anxa9', 'Arhgef26', 'B3gat2', 'Barhl1', 'Bcl2l14', 'Blzf1', 'Bmpr1b', 'Capn13', 'Cdc5l', 'Cdc6', 'Cdh1', 'Cecr2', 'Cilp', 'Clec5a', 'Creb1', 'Creb3l1', 'Csf2rb2', 'Ctla4', 'Cyp2c70', 'Cyp2j5', 'Dbx1', 'Dcstamp', 'Ddb2', 'Egln3', 'Fam69c', 'Fbll1', 'Foxa1', 'Foxa2', 'Foxd1', 'Foxd4', 'Galnt3', 'Gata6', 'Gdf2', 'Gdf5', 'Gm15688', 'Gm6377', 'Gm805', 'Gpc4', 'Gpr114', 'Gykl1', 'Hdx', 'Hn1l', 'Hnf1a', 'Hoxb3', 'Hoxb8', 'Hyal5', 'Kif16b', 'Laptm5', 'Lefty2', 'Lhx3', 'Lhx4', 'Lmod1', 'Mertk', 'Mgam', 'Mmgt1', 'Mmp8', 'Mrgprb1', 'Murc', 'Nell1', 'Neurod4', 'Neurog1', 'Nfkb2', 'Nfkbiz', 'Nhlh1', 'Nkd2', 'Nlrp12', 'Npy2r', 'Obsl1', 'Olr1', 'Osr2', 'Pld1', 'Pld5', 'Poln', 'Ppp1r3b', 'Psmd5', 'Rbm31y', 'Rrm2', 'Scml2', 'Senp1', 'Serpinb11', 'Sis', 'Slc4a8', 'Slc6a16', 'Spag6', 'Sumf2', 'Tnfrsf1b', 'Vmn1r65', 'Vps13c', 'Wrn', 'Zfp182', 'Zfp715', 'Zfp90', 'cpne5', 'nes', 'acta2', 'gja1', 'omg', 'nov', 'col5a1', 'dcx', 'itpr2', 'rhob', 'sox2', 'cldn5', 'mrc1', 'tbr1', 'pax6', 'calb1', 'gda', 'slc5a7', 'sema3e', 'mfge8', 'lyve1', 'loxl1', 'slco1c1', 'amigo2', 'kcnip']\n",
      "[[   0.      0.  ]\n",
      " [ 675.08  -37.33]\n",
      " [ 265.76 -231.14]\n",
      " [ 753.46 -261.14]\n",
      " [ 290.48 -261.52]]\n",
      "[[-1.    1.83  0.38 ... -1.06 -1.99 -1.69]\n",
      " [-1.    1.83  0.38 ... -1.06 -1.99 -1.69]\n",
      " [-1.    1.83  0.38 ... -1.06 -1.99 -1.69]\n",
      " ...\n",
      " [-1.    1.83  0.38 ... -1.06 -1.99 -1.69]\n",
      " [-1.    1.83  0.38 ... -1.06 -1.99 -1.69]\n",
      " [-1.    1.83  0.38 ... -1.06 -1.99 -1.69]]\n",
      "[0 0 0 0 0 0 0]\n",
      "The number of genes is 125\n",
      "cutoff:0.30% #nodes:1598 #edges:3858 avg.nei:4.83\n",
      "cutoff:0.50% #nodes:1598 #edges:6393 avg.nei:8.00\n",
      "cutoff:1.00% #nodes:1598 #edges:12762 avg.nei:15.97\n",
      "Adjacency\n",
      "Edges\n"
     ]
    },
    {
     "name": "stderr",
     "output_type": "stream",
     "text": [
      "/bin/sh: 1: java: not found\n"
     ]
    },
    {
     "ename": "FileNotFoundError",
     "evalue": "[Errno 2] No such file or directory: '/tmp/blocks.txt'",
     "output_type": "error",
     "traceback": [
      "\u001b[0;31m---------------------------------------------------------------------------\u001b[0m",
      "\u001b[0;31mFileNotFoundError\u001b[0m                         Traceback (most recent call last)",
      "Cell \u001b[0;32mIn[9], line 54\u001b[0m\n\u001b[1;32m     52\u001b[0m this_dset\u001b[38;5;241m.\u001b[39mtest_adjacency_list([\u001b[38;5;241m0.3\u001b[39m, \u001b[38;5;241m0.5\u001b[39m, \u001b[38;5;241m1\u001b[39m], metric\u001b[38;5;241m=\u001b[39m\u001b[38;5;124m\"\u001b[39m\u001b[38;5;124meuclidean\u001b[39m\u001b[38;5;124m\"\u001b[39m)        \u001b[38;5;66;03m#      are other metrics possible here? Running the script with delaunay for example, doesn't work\u001b[39;00m\n\u001b[1;32m     53\u001b[0m this_dset\u001b[38;5;241m.\u001b[39mcalc_neighbor_graph(\u001b[38;5;241m0.3\u001b[39m, metric\u001b[38;5;241m=\u001b[39m\u001b[38;5;124m\"\u001b[39m\u001b[38;5;124meuclidean\u001b[39m\u001b[38;5;124m\"\u001b[39m)          \u001b[38;5;66;03m# Calculate network\u001b[39;00m\n\u001b[0;32m---> 54\u001b[0m this_dset\u001b[38;5;241m.\u001b[39mcalc_independent_region()         \u001b[38;5;66;03m# Determine the different regions in the network\u001b[39;00m\n\u001b[1;32m     56\u001b[0m \u001b[38;5;66;03m#new_genes = reader.read_genes(\"../HMRF.genes\")\u001b[39;00m\n\u001b[1;32m     57\u001b[0m \u001b[38;5;66;03m#new_dset = this_dset.subset_genes(new_genes)\u001b[39;00m\n\u001b[1;32m     60\u001b[0m plt\u001b[38;5;241m.\u001b[39mscatter(spatial_coords[:, \u001b[38;5;241m0\u001b[39m], spatial_coords[:, \u001b[38;5;241m1\u001b[39m], c\u001b[38;5;241m=\u001b[39mthis_dset\u001b[38;5;241m.\u001b[39mblocks, cmap\u001b[38;5;241m=\u001b[39m\u001b[38;5;124m'\u001b[39m\u001b[38;5;124mjet\u001b[39m\u001b[38;5;124m'\u001b[39m)\n",
      "File \u001b[0;32m~/anaconda3/lib/python3.11/site-packages/smfishHmrf/DatasetMatrix.py:109\u001b[0m, in \u001b[0;36mDatasetMatrix.calc_independent_region\u001b[0;34m(self, seed)\u001b[0m\n\u001b[1;32m    107\u001b[0m \u001b[38;5;66;03m#os.system(\"java -cp %s GraphColoring %s %s\" % (this_path, edge_file, block_file))\u001b[39;00m\n\u001b[1;32m    108\u001b[0m \u001b[38;5;28mself\u001b[39m\u001b[38;5;241m.\u001b[39mblocks \u001b[38;5;241m=\u001b[39m []\n\u001b[0;32m--> 109\u001b[0m f \u001b[38;5;241m=\u001b[39m \u001b[38;5;28mopen\u001b[39m(block_file)\n\u001b[1;32m    110\u001b[0m \u001b[38;5;28;01mfor\u001b[39;00m l \u001b[38;5;129;01min\u001b[39;00m f:\n\u001b[1;32m    111\u001b[0m \tl \u001b[38;5;241m=\u001b[39m l\u001b[38;5;241m.\u001b[39mrstrip(\u001b[38;5;124m\"\u001b[39m\u001b[38;5;130;01m\\n\u001b[39;00m\u001b[38;5;124m\"\u001b[39m)\n",
      "\u001b[0;31mFileNotFoundError\u001b[0m: [Errno 2] No such file or directory: '/tmp/blocks.txt'"
     ]
    }
   ],
   "source": [
    "cortex_FDs = [0]  # Set field value, based on which to filter data\n",
    "\n",
    "# Set directory paths and print to check if correct\n",
    "base_dir = os.path.abspath(\"../hmrf/\")\n",
    "input_data_dir = os.path.join(base_dir, \"data\")\n",
    "output_dir = os.path.join(base_dir, \"output\")\n",
    "\n",
    "# Get file containing gene names\n",
    "file_genes = os.path.join(input_data_dir, \"genes.txt\")\n",
    "genes = reader.read_genes(file_genes)\n",
    "\n",
    "print(genes)\n",
    "\n",
    "# Get spatial coordinates\n",
    "file_coords = os.path.join(input_data_dir, \"fcortex.coordinates.txt\")\n",
    "spatial_coords, field = reader.read_coord(file_coords)\n",
    "\n",
    "# Check if coordinates are stored correctly\n",
    "print(spatial_coords[:5])\n",
    "\n",
    "file_expression = os.path.join(input_data_dir, \"fcortex.expression.txt\")\n",
    "\n",
    "#expr = np.empty((len(genes), spatial_coords.shape[0]), dtype=\"float32\")\n",
    "#    for ind,g in enumerate(genes):\n",
    "#        expr[ind,:] = reader.read_expression(\"%s/pca_corrected/f%s.gene.%s.txt\" % (input_data_dir, directory, roi, g))\n",
    "\n",
    "expr = np.empty((len(genes), spatial_coords.shape[0]), dtype=\"float32\")\n",
    "for ind, g in enumerate(genes):\n",
    "    expr[ind, :] = reader.read_expression(file_expression)\n",
    "\n",
    "# Check if gene expression values stored correctly\n",
    "print(expr[:10])\n",
    "\n",
    "# Filter data based on field (FD) value\n",
    "good_i = np.array([i for i in range(spatial_coords.shape[0]) if field[i] in set(cortex_FDs)])\n",
    "expr = expr[:,good_i]\n",
    "spatial_coords = spatial_coords[good_i]\n",
    "field = field[good_i]\n",
    "\n",
    "print(field[:7])\n",
    "\n",
    "ngene = len(genes)\n",
    "ncell = spatial_coords.shape[0]\n",
    "\n",
    "print(\"The number of genes is {}\".format(ngene))\n",
    "\n",
    "expr = zscore(expr, axis=1)\t #z-score per row (gene)\n",
    "expr = zscore(expr, axis=0)  #z-score per column (cell)\n",
    "\n",
    "\n",
    "this_dset = DatasetMatrixSingleField(expr, genes, None, spatial_coords)\n",
    "this_dset.test_adjacency_list([0.3, 0.5, 1], metric=\"euclidean\")        # are other metrics possible here? Running the script with delaunay for example, doesn't work\n",
    "this_dset.calc_neighbor_graph(0.3, metric=\"euclidean\")          # Calculate network\n",
    "this_dset.calc_independent_region()         # Determine the different regions in the network\n",
    "\n",
    "#new_genes = reader.read_genes(\"../HMRF.genes\")\n",
    "#new_dset = this_dset.subset_genes(new_genes)\n",
    "\n",
    "plt.scatter(spatial_coords[:, 0], spatial_coords[:, 1], c=this_dset.blocks, cmap='jet')\n",
    "plt.xlabel('X coordinate')\n",
    "plt.ylabel('Y coordinate')\n",
    "plt.title('Independent Regions')\n",
    "plt.colorbar()  # Show color scale\n",
    "\n",
    "plt.savefig(os.path.join(output_dir, \"independent_regions.png\"))\n",
    "print(\"Plot saved to:\", os.path.join(output_dir, \"independent_regions.png\"))\n",
    "\n",
    "print(\"Showing plot...\")\n",
    "plt.show()\n"
   ]
  },
  {
   "cell_type": "code",
   "execution_count": null,
   "metadata": {},
   "outputs": [],
   "source": [
    "\"/home/abdelmounim.essabbar/Projects/mosna_benchmark/benchmarking/hmrf/\""
   ]
  }
 ],
 "metadata": {
  "kernelspec": {
   "display_name": "Python 3",
   "language": "python",
   "name": "python3"
  },
  "language_info": {
   "codemirror_mode": {
    "name": "ipython",
    "version": 3
   },
   "file_extension": ".py",
   "mimetype": "text/x-python",
   "name": "python",
   "nbconvert_exporter": "python",
   "pygments_lexer": "ipython3",
   "version": "3.11.5"
  }
 },
 "nbformat": 4,
 "nbformat_minor": 2
}
