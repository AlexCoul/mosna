{
 "cells": [
  {
   "cell_type": "markdown",
   "metadata": {},
   "source": [
    "# IMC breast cancer"
   ]
  },
  {
   "cell_type": "markdown",
   "metadata": {},
   "source": [
    "In this notebook we demonstrate how mosna can be used to analyze spatiallly resolved omics data.  \n",
    "The data used is from the publication by [Danenberg et al., Nature Genetics, 2023](https://doi.org/10.1038/s41588-022-01041-y) \"Breast tumor microenvironment structures are associated with genomic features and clinical outcome\".  \n",
    "Here 693 tumors of breast cancer were processed with the [Imaging Mass Cytometry](https://doi.org/10.1038/s43018-020-0026-6) method (cytometry by time of fligh, CyTOF) to produce maps of 37 proteins and study the relationship between cell types in tumors with respect to survival.  "
   ]
  },
  {
   "cell_type": "markdown",
   "metadata": {},
   "source": [
    "## Imports and data loading"
   ]
  },
  {
   "cell_type": "code",
   "execution_count": 1,
   "metadata": {},
   "outputs": [],
   "source": [
    "import numpy as np\n",
    "import pandas as pd\n",
    "import matplotlib.pyplot as plt\n",
    "import seaborn as sns\n",
    "import os\n",
    "from time import time\n",
    "import warnings\n",
    "import joblib\n",
    "from pathlib import Path\n",
    "from time import time\n",
    "from tqdm import tqdm\n",
    "import copy\n",
    "import matplotlib as mpl\n",
    "import napari\n",
    "import colorcet as cc\n",
    "import composition_stats as cs\n",
    "from sklearn.impute import KNNImputer\n",
    "\n",
    "from tysserand import tysserand as ty\n",
    "from mosna import mosna\n",
    "\n",
    "import matplotlib as mpl\n",
    "mpl.rcParams[\"figure.facecolor\"] = 'white'\n",
    "mpl.rcParams[\"axes.facecolor\"] = 'white'\n",
    "mpl.rcParams[\"savefig.facecolor\"] = 'white'"
   ]
  },
  {
   "cell_type": "code",
   "execution_count": 2,
   "metadata": {},
   "outputs": [],
   "source": [
    "# If need to reload modules after their modification\n",
    "from importlib import reload\n",
    "ty = reload(ty)\n",
    "mosna = reload(mosna)"
   ]
  },
  {
   "cell_type": "code",
   "execution_count": 3,
   "metadata": {},
   "outputs": [],
   "source": [
    "RUN_LONG = False"
   ]
  },
  {
   "cell_type": "markdown",
   "metadata": {},
   "source": [
    "### Objects data"
   ]
  },
  {
   "cell_type": "markdown",
   "metadata": {},
   "source": [
    "Load files that contains all the detected objects (the cells) across all samples and clinical data.  \n",
    "Data is available here: https://zenodo.org/records/7324285  \n",
    "Images are available here: https://zenodo.org/records/6036188"
   ]
  },
  {
   "cell_type": "code",
   "execution_count": null,
   "metadata": {},
   "outputs": [],
   "source": [
    "data_dir = Path(\"../data/raw/IMC_Breast_cancer_Danenberg_2022\")\n",
    "objects_path = data_dir / \"SingleCells.csv\"\n",
    "\n",
    "if objects_path.with_suffix('.parquet').exists():\n",
    "    obj = pd.read_parquet(objects_path.with_suffix('.parquet'))\n",
    "else:\n",
    "    obj = pd.read_csv(objects_path)\n",
    "    # for latter use\n",
    "    obj.to_parquet(objects_path.with_suffix('.parquet'))\n",
    "obj"
   ]
  },
  {
   "cell_type": "markdown",
   "metadata": {},
   "source": [
    "`ObjectNumber` is the ID of cells, starting at 1 for each image (there are 797 ObjectNumber = 1)."
   ]
  },
  {
   "cell_type": "code",
   "execution_count": null,
   "metadata": {},
   "outputs": [],
   "source": [
    "obj.rename(columns={'Location_Center_X': 'x', 'Location_Center_Y': 'y'}, inplace=True)\n",
    "sample_cols = ['ImageNumber', 'ObjectNumber', 'metabric_id']\n",
    "all_epitopes = pd.read_csv(data_dir / 'markerStackOrder.csv').iloc[:, 1].values\n",
    "# remove Histone H3 and DNA markers\n",
    "marker_cols = all_epitopes[1:-2]\n",
    "pos_cols = ['x', 'y']\n",
    "cell_type_cols = [\n",
    "    'is_epithelial',\n",
    "    'is_tumour',\n",
    "    'is_normal',\n",
    "    'is_dcis',\n",
    "    'is_interface',\n",
    "    'is_perivascular',\n",
    "    'is_hotAggregate',\n",
    "    ]\n",
    "nb_phenotypes = obj['cellPhenotype'].unique().size\n",
    "\n",
    "print(f'nb phenotypes: {nb_phenotypes}')\n",
    "print(f'nb used markers: {len(marker_cols)}')"
   ]
  },
  {
   "cell_type": "code",
   "execution_count": null,
   "metadata": {},
   "outputs": [],
   "source": [
    "# # Load published network\n",
    "# neighbs = pd.read_csv(data_dir / 'CellNeighbours.csv')"
   ]
  },
  {
   "cell_type": "code",
   "execution_count": null,
   "metadata": {},
   "outputs": [],
   "source": [
    "clinical_path = data_dir / \"IMCClinical.csv\"\n",
    "clin = pd.read_csv(clinical_path, index_col=0)\n",
    "clin"
   ]
  },
  {
   "cell_type": "code",
   "execution_count": null,
   "metadata": {},
   "outputs": [],
   "source": [
    "# Show number of cells per sample\n",
    "pd.set_option('display.max_rows', None)\n",
    "obj[sample_cols].groupby(sample_cols[:-1]).count()"
   ]
  },
  {
   "cell_type": "code",
   "execution_count": null,
   "metadata": {},
   "outputs": [],
   "source": []
  }
 ],
 "metadata": {
  "kernelspec": {
   "display_name": "test",
   "language": "python",
   "name": "python3"
  },
  "language_info": {
   "codemirror_mode": {
    "name": "ipython",
    "version": 3
   },
   "file_extension": ".py",
   "mimetype": "text/x-python",
   "name": "python",
   "nbconvert_exporter": "python",
   "pygments_lexer": "ipython3",
   "version": "3.10.13"
  }
 },
 "nbformat": 4,
 "nbformat_minor": 2
}
