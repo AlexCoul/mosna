{
 "cells": [
  {
   "cell_type": "code",
   "execution_count": 1,
   "metadata": {},
   "outputs": [],
   "source": [
    "import numpy as np\n",
    "import pandas as pd\n",
    "\n",
    "import rpy2\n",
    "import rpy2.robjects as robjects\n",
    "\n",
    "## To aid in printing HTML in notebooks\n",
    "import rpy2.ipython.html\n",
    "rpy2.ipython.html.init_printing()\n",
    "\n",
    "from rpy2.robjects.packages import importr, data\n",
    "utils = importr('utils')\n",
    "base = importr('base')"
   ]
  },
  {
   "cell_type": "code",
   "execution_count": 74,
   "metadata": {},
   "outputs": [
    {
     "name": "stdout",
     "output_type": "stream",
     "text": [
      "np_array: [[ 4 20 15 12 11]\n",
      " [13 23  7 17  0]\n",
      " [10 22 14  6 21]\n",
      " [24  3  1  5  2]\n",
      " [18 16 19  9  8]]\n",
      "np_results: [2 2 2 1 3]\n"
     ]
    }
   ],
   "source": [
    "# activate Python / R conversion\n",
    "robjects.numpy2ri.activate()\n",
    "\n",
    "# define Python object\n",
    "\n",
    "np_array = np.arange(25)\n",
    "np.random.shuffle(np_array)\n",
    "np_array = np_array.reshape(5, 5)\n",
    "print('np_array:', np_array)\n",
    "\n",
    "# define functions in R\n",
    "robjects.r('''\n",
    "    # create a function\n",
    "    max_id <- function(x, col_id=1) {\n",
    "        apply( x , col_id , function(x) which( x == max(x) , arr.ind = TRUE ) )\n",
    "    }\n",
    "    ''')\n",
    "\n",
    "# run R code\n",
    "r_function = robjects.globalenv['max_id']\n",
    "\n",
    "# get results in Python\n",
    "np_results = np.array(r_function(np_array))\n",
    "print('np_results:', np_results)\n",
    "\n",
    "# stop automatic conversion\n",
    "robjects.numpy2ri.deactivate()"
   ]
  },
  {
   "cell_type": "code",
   "execution_count": 79,
   "metadata": {},
   "outputs": [
    {
     "name": "stdout",
     "output_type": "stream",
     "text": [
      "pd_df:\n",
      "    a  b\n",
      "0  1  9\n",
      "1  2  5\n",
      "2  3  1\n",
      "pd_results: [1] 21\n",
      "\n"
     ]
    }
   ],
   "source": [
    "# with pandas\n",
    "\n",
    "robjects.pandas2ri.activate()\n",
    "\n",
    "# define Python object\n",
    "\n",
    "pd_df = pd.DataFrame({'a': [1, 2, 3], 'b': [9, 5, 1]})\n",
    "print('pd_df:\\n', pd_df)\n",
    "\n",
    "# define functions in R\n",
    "robjects.r('''\n",
    "    # create a function\n",
    "    sum_df <- function(x) {\n",
    "        sum(x)\n",
    "    }\n",
    "    ''')\n",
    "\n",
    "# run R code\n",
    "r_function = robjects.globalenv['sum_df']\n",
    "\n",
    "# get results in Python\n",
    "pd_results = r_function(pd_df)\n",
    "print('pd_results:', pd_results)\n",
    "\n",
    "# stop automatic conversion\n",
    "robjects.pandas2ri.deactivate()"
   ]
  },
  {
   "cell_type": "code",
   "execution_count": 5,
   "metadata": {},
   "outputs": [
    {
     "data": {
      "text/plain": [
       "'# library(Giotto)\\n# library(GiottoData)\\n\\n# g <- GiottoData::loadGiottoMini(\"visium\")\\n\\nrun_HMRF <- function(r_array, r_df) {\\n        max_id = apply( x , col_id , function(x) which( x == max(x) , arr.ind = TRUE ) )\\n        sum_df = sum(x)\\n        list(max_id=max_id, sum_df=sum_df)\\n    }'"
      ]
     },
     "execution_count": 5,
     "metadata": {},
     "output_type": "execute_result"
    }
   ],
   "source": [
    "script_hmrf_path = './script_HMRF.R'\n",
    "with open(script_hmrf_path) as f:\n",
    "    script_hmrf = f.read()\n",
    "\n",
    "script_hmrf"
   ]
  },
  {
   "cell_type": "code",
   "execution_count": 6,
   "metadata": {},
   "outputs": [],
   "source": [
    "robjects.r(script_hmrf)"
   ]
  },
  {
   "cell_type": "code",
   "execution_count": 16,
   "metadata": {},
   "outputs": [
    {
     "name": "stderr",
     "output_type": "stream",
     "text": [
      "R[write to console]: Giotto Suite 4.0.8\n",
      "\n",
      "R[write to console]: GiottoData 0.2.13\n",
      "\n"
     ]
    },
    {
     "name": "stdout",
     "output_type": "stream",
     "text": [
      "np_array: [[ 8  0  5  7  1]\n",
      " [ 6 11  2  9 14]\n",
      " [12  3 13  4 10]]\n",
      "pd_df:\n",
      "    a  b\n",
      "0  1  9\n",
      "1  2  5\n",
      "2  3  1\n",
      "$max_id\n",
      "[1] 1 5 3\n",
      "\n",
      "$sum_df\n",
      "[1] 21\n",
      "\n",
      "\n"
     ]
    }
   ],
   "source": [
    "# activate Python / R conversion\n",
    "robjects.numpy2ri.activate()\n",
    "robjects.pandas2ri.activate()\n",
    "\n",
    "# define Python objects\n",
    "\n",
    "np_array = np.arange(15)\n",
    "np.random.shuffle(np_array)\n",
    "np_array = np_array.reshape(3, 5)\n",
    "print('np_array:', np_array)\n",
    "\n",
    "pd_df = pd.DataFrame({'a': [1, 2, 3], 'b': [9, 5, 1]})\n",
    "print('pd_df:\\n', pd_df)\n",
    "\n",
    "# define functions in R\n",
    "script_hmrf_path = './script_HMRF.R'\n",
    "with open(script_hmrf_path) as f:\n",
    "    script_hmrf = f.read()\n",
    "robjects.r(script_hmrf)\n",
    "\n",
    "# run R code\n",
    "r_function = robjects.globalenv['run_HMRF']\n",
    "\n",
    "# get results in Python\n",
    "results = r_function(np_array, pd_df)\n",
    "print(results)\n",
    "\n",
    "# stop automatic conversion\n",
    "robjects.numpy2ri.deactivate()\n",
    "robjects.pandas2ri.deactivate()"
   ]
  },
  {
   "cell_type": "code",
   "execution_count": 26,
   "metadata": {},
   "outputs": [
    {
     "name": "stderr",
     "output_type": "stream",
     "text": [
      "R[write to console]: In addition: \n",
      "R[write to console]: Warning message:\n",
      "\n",
      "R[write to console]: Python is required for full Giotto functionality. \n",
      "\n"
     ]
    },
    {
     "name": "stdout",
     "output_type": "stream",
     "text": [
      "np_array: [[4 7]\n",
      " [3 2]\n",
      " [5 8]\n",
      " [0 9]\n",
      " [1 6]]\n",
      "pd_df:\n",
      "    a  b\n",
      "0  1  9\n",
      "1  2  5\n",
      "2  3  1\n"
     ]
    },
    {
     "name": "stderr",
     "output_type": "stream",
     "text": [
      "R[write to console]: Giotto Suite 4.0.8\n",
      "\n",
      "R[write to console]: GiottoData 0.2.13\n",
      "\n",
      "R[write to console]: \n",
      "no external python path was provided,\n",
      " but a giotto python environment was found and\n",
      " will be used\n",
      "\n",
      "R[write to console]: ERROR: The requested version of Python\n",
      "\n",
      "R[write to console]: ('/home/alexis/.local/share/r-miniconda/envs/giotto_env/bin/python')\n",
      "\n",
      "R[write to console]: cannot be used, as another version of Python\n",
      "\n",
      "R[write to console]: ('/home/alexis/.pyenv/versions/3.10.13/envs/mosna/bin/python') has\n",
      "\n",
      "R[write to console]: already been initialized. Please restart the R session if you need to\n",
      "\n",
      "R[write to console]: attach reticulate to a different version of Python.\n",
      "\n"
     ]
    },
    {
     "name": "stdout",
     "output_type": "stream",
     "text": [
      "[1] \"ncol(coords): 2\"\n",
      "[1] \"seq_len(ncol(coords)): 1\" \"seq_len(ncol(coords)): 2\"\n",
      " [1] \"coords: 4\" \"coords: 3\" \"coords: 5\" \"coords: 0\" \"coords: 1\" \"coords: 7\"\n",
      " [7] \"coords: 2\" \"coords: 8\" \"coords: 9\" \"coords: 6\"\n",
      "class generator function for class “giotto” from package ‘GiottoClass’\n",
      "function (...) \n",
      "new(\"giotto\", ...)\n",
      "<bytecode: 0x5628afb075f8>\n",
      "<environment: namespace:GiottoClass>\n",
      "\n"
     ]
    }
   ],
   "source": [
    "# activate Python / R conversion\n",
    "robjects.numpy2ri.activate()\n",
    "robjects.pandas2ri.activate()\n",
    "\n",
    "# define Python objects\n",
    "\n",
    "np_array = np.arange(10)\n",
    "np.random.shuffle(np_array)\n",
    "np_array = np_array.reshape(5, 2)\n",
    "print('np_array:', np_array)\n",
    "\n",
    "pd_df = pd.DataFrame({'a': [1, 2, 3], 'b': [9, 5, 1]})\n",
    "print('pd_df:\\n', pd_df)\n",
    "\n",
    "# define functions in R\n",
    "script_hmrf_path = './script_HMRF.R'\n",
    "with open(script_hmrf_path) as f:\n",
    "    script_hmrf = f.read()\n",
    "robjects.r(script_hmrf)\n",
    "\n",
    "# run R code\n",
    "r_make_Giottio = robjects.globalenv['make_Giottio']\n",
    "\n",
    "# get results in Python\n",
    "r_giotto = r_make_Giottio(np_array, pd_df)\n",
    "print(r_giotto)\n",
    "\n",
    "# stop automatic conversion\n",
    "robjects.numpy2ri.deactivate()\n",
    "robjects.pandas2ri.deactivate()"
   ]
  },
  {
   "cell_type": "code",
   "execution_count": null,
   "metadata": {},
   "outputs": [],
   "source": []
  },
  {
   "cell_type": "code",
   "execution_count": 8,
   "metadata": {},
   "outputs": [
    {
     "name": "stderr",
     "output_type": "stream",
     "text": [
      "R[write to console]: 1. read Giotto object\n",
      "\n",
      "R[write to console]: 2. read Giotto feature information\n",
      "\n",
      "R[write to console]: 3. read Giotto spatial information\n",
      "\n",
      "R[write to console]: 3.1 read Giotto spatial shape information\n",
      "\n",
      "R[write to console]: cell_spatInfo_spatVector.shp\n",
      "\n",
      "R[write to console]: cell\n",
      "\n",
      "R[write to console]: \n",
      "3.2 read Giotto spatial centroid information\n",
      "\n",
      "R[write to console]: cell\n",
      "\n",
      "R[write to console]: \n",
      "3.3 read Giotto spatial overlap information\n",
      "\n",
      "R[write to console]: No overlaps were found, overlap loading will be\n",
      " skipped\n",
      "\n",
      "R[write to console]: \n",
      "4. read Giotto image information\n",
      "\n",
      "R[write to console]: \n",
      "no external python path was provided,\n",
      " but a giotto python environment was found and\n",
      " will be used\n",
      "\n",
      "R[write to console]: ERROR: The requested version of Python\n",
      "\n",
      "R[write to console]: ('/home/alexis/.local/share/r-miniconda/envs/giotto_env/bin/python')\n",
      "\n",
      "R[write to console]: cannot be used, as another version of Python\n",
      "\n",
      "R[write to console]: ('/home/alexis/.pyenv/versions/3.10.13/envs/mosna/bin/python') has\n",
      "\n",
      "R[write to console]: already been initialized. Please restart the R session if you need to\n",
      "\n",
      "R[write to console]: attach reticulate to a different version of Python.\n",
      "\n",
      "R[write to console]: Error in reticulate::use_python(required = TRUE, python = python_path) : \n",
      "  failed to initialize requested version of Python\n",
      "\n"
     ]
    },
    {
     "ename": "RRuntimeError",
     "evalue": "Error in reticulate::use_python(required = TRUE, python = python_path) : \n  failed to initialize requested version of Python\n",
     "output_type": "error",
     "traceback": [
      "\u001b[0;31m---------------------------------------------------------------------------\u001b[0m",
      "\u001b[0;31mRRuntimeError\u001b[0m                             Traceback (most recent call last)",
      "Cell \u001b[0;32mIn[8], line 1\u001b[0m\n\u001b[0;32m----> 1\u001b[0m \u001b[43mrobjects\u001b[49m\u001b[38;5;241;43m.\u001b[39;49m\u001b[43mr\u001b[49m\u001b[43m(\u001b[49m\u001b[38;5;124;43m'''\u001b[39;49m\n\u001b[1;32m      2\u001b[0m \u001b[38;5;124;43m        library(Giotto)\u001b[39;49m\n\u001b[1;32m      3\u001b[0m \u001b[38;5;124;43m        library(GiottoData)\u001b[39;49m\n\u001b[1;32m      4\u001b[0m \n\u001b[1;32m      5\u001b[0m \u001b[38;5;124;43m        # giotto = createGiottoObject(expression = expr,\u001b[39;49m\n\u001b[1;32m      6\u001b[0m \u001b[38;5;124;43m        #                             expression_matrix_class = \u001b[39;49m\u001b[38;5;124;43m\"\u001b[39;49m\u001b[38;5;124;43mcustom\u001b[39;49m\u001b[38;5;124;43m\"\u001b[39;49m\u001b[38;5;124;43m,\u001b[39;49m\n\u001b[1;32m      7\u001b[0m \u001b[38;5;124;43m        #                             expression_feat = \u001b[39;49m\u001b[38;5;124;43m\"\u001b[39;49m\u001b[38;5;124;43mprotein\u001b[39;49m\u001b[38;5;124;43m\"\u001b[39;49m\u001b[38;5;124;43m,\u001b[39;49m\n\u001b[1;32m      8\u001b[0m \u001b[38;5;124;43m        #                             spatial_locs = coord,\u001b[39;49m\n\u001b[1;32m      9\u001b[0m \u001b[38;5;124;43m        #                             instructions = instrs,\u001b[39;49m\n\u001b[1;32m     10\u001b[0m \u001b[38;5;124;43m        #                             offset_file = my_offset_file)\u001b[39;49m\n\u001b[1;32m     11\u001b[0m \n\u001b[1;32m     12\u001b[0m \u001b[38;5;124;43m        g <- GiottoData::loadGiottoMini(\u001b[39;49m\u001b[38;5;124;43m\"\u001b[39;49m\u001b[38;5;124;43mvisium\u001b[39;49m\u001b[38;5;124;43m\"\u001b[39;49m\u001b[38;5;124;43m)\u001b[39;49m\n\u001b[1;32m     13\u001b[0m \u001b[38;5;124;43m        # g <- binSpect(g, return_gobject = TRUE)\u001b[39;49m\n\u001b[1;32m     14\u001b[0m \u001b[38;5;124;43m        # HMRF_init_obj <- initHMRF_V2(gobject = g, cl.method = \u001b[39;49m\u001b[38;5;124;43m\"\u001b[39;49m\u001b[38;5;124;43mkm\u001b[39;49m\u001b[38;5;124;43m\"\u001b[39;49m\u001b[38;5;124;43m)\u001b[39;49m\n\u001b[1;32m     15\u001b[0m \n\u001b[1;32m     16\u001b[0m \u001b[38;5;124;43m        # HMRFoutput <- doHMRF_V2(HMRF_init_obj = HMRF_init_obj, betas = c(0, 5, 2))\u001b[39;49m\n\u001b[1;32m     17\u001b[0m \u001b[38;5;124;43m        \u001b[39;49m\u001b[38;5;124;43m'''\u001b[39;49m\u001b[43m)\u001b[49m\n",
      "File \u001b[0;32m~/.pyenv/versions/3.10.13/envs/mosna/lib/python3.10/site-packages/rpy2/robjects/__init__.py:509\u001b[0m, in \u001b[0;36mR.__call__\u001b[0;34m(self, string, invisible, print_r_warnings)\u001b[0m\n\u001b[1;32m    507\u001b[0m     invisible \u001b[38;5;241m=\u001b[39m \u001b[38;5;28mself\u001b[39m\u001b[38;5;241m.\u001b[39m_invisible\n\u001b[1;32m    508\u001b[0m \u001b[38;5;28;01mif\u001b[39;00m invisible:\n\u001b[0;32m--> 509\u001b[0m     res, visible \u001b[38;5;241m=\u001b[39m \u001b[43mrinterface\u001b[49m\u001b[38;5;241;43m.\u001b[39;49m\u001b[43mevalr_expr_with_visible\u001b[49m\u001b[43m(\u001b[49m\u001b[43m   \u001b[49m\u001b[38;5;66;43;03m# type: ignore\u001b[39;49;00m\n\u001b[1;32m    510\u001b[0m \u001b[43m        \u001b[49m\u001b[43mr_expr\u001b[49m\n\u001b[1;32m    511\u001b[0m \u001b[43m    \u001b[49m\u001b[43m)\u001b[49m\n\u001b[1;32m    512\u001b[0m     \u001b[38;5;28;01mif\u001b[39;00m \u001b[38;5;129;01mnot\u001b[39;00m visible[\u001b[38;5;241m0\u001b[39m]:  \u001b[38;5;66;03m# type: ignore\u001b[39;00m\n\u001b[1;32m    513\u001b[0m         res \u001b[38;5;241m=\u001b[39m \u001b[38;5;28;01mNone\u001b[39;00m\n",
      "File \u001b[0;32m~/.pyenv/versions/3.10.13/envs/mosna/lib/python3.10/site-packages/rpy2/rinterface.py:192\u001b[0m, in \u001b[0;36mevalr_expr_with_visible\u001b[0;34m(expr, envir)\u001b[0m\n\u001b[1;32m    185\u001b[0m r_res \u001b[38;5;241m=\u001b[39m rmemory\u001b[38;5;241m.\u001b[39mprotect(\n\u001b[1;32m    186\u001b[0m         openrlib\u001b[38;5;241m.\u001b[39mrlib\u001b[38;5;241m.\u001b[39mR_tryEval(\n\u001b[1;32m    187\u001b[0m             r_call,\n\u001b[1;32m    188\u001b[0m             envir\u001b[38;5;241m.\u001b[39m__sexp__\u001b[38;5;241m.\u001b[39m_cdata,  \u001b[38;5;66;03m# call context.\u001b[39;00m\n\u001b[1;32m    189\u001b[0m             error_occured)\n\u001b[1;32m    190\u001b[0m )\n\u001b[1;32m    191\u001b[0m \u001b[38;5;28;01mif\u001b[39;00m error_occured[\u001b[38;5;241m0\u001b[39m]:\n\u001b[0;32m--> 192\u001b[0m     \u001b[38;5;28;01mraise\u001b[39;00m embedded\u001b[38;5;241m.\u001b[39mRRuntimeError(_rinterface\u001b[38;5;241m.\u001b[39m_geterrmessage())\n\u001b[1;32m    193\u001b[0m res \u001b[38;5;241m=\u001b[39m conversion\u001b[38;5;241m.\u001b[39m_cdata_to_rinterface(r_res)\n\u001b[1;32m    194\u001b[0m \u001b[38;5;28;01massert\u001b[39;00m \u001b[38;5;28misinstance\u001b[39m(res, ListSexpVector)\n",
      "\u001b[0;31mRRuntimeError\u001b[0m: Error in reticulate::use_python(required = TRUE, python = python_path) : \n  failed to initialize requested version of Python\n"
     ]
    }
   ],
   "source": [
    "robjects.r('''\n",
    "        library(Giotto)\n",
    "        library(GiottoData)\n",
    "\n",
    "        # giotto = createGiottoObject(expression = expr,\n",
    "        #                             expression_matrix_class = \"custom\",\n",
    "        #                             expression_feat = \"protein\",\n",
    "        #                             spatial_locs = coord,\n",
    "        #                             instructions = instrs,\n",
    "        #                             offset_file = my_offset_file)\n",
    "\n",
    "        g <- GiottoData::loadGiottoMini(\"visium\")\n",
    "        # g <- binSpect(g, return_gobject = TRUE)\n",
    "        # HMRF_init_obj <- initHMRF_V2(gobject = g, cl.method = \"km\")\n",
    "\n",
    "        # HMRFoutput <- doHMRF_V2(HMRF_init_obj = HMRF_init_obj, betas = c(0, 5, 2))\n",
    "        ''')"
   ]
  },
  {
   "cell_type": "markdown",
   "metadata": {},
   "source": [
    "** Python path used:  \n",
    "\"/home/alexis/.local/share/r-miniconda/envs/giotto_env/bin/python\"  \n",
    "(This is fine if python-based functions are not needed) "
   ]
  },
  {
   "cell_type": "code",
   "execution_count": null,
   "metadata": {},
   "outputs": [],
   "source": []
  }
 ],
 "metadata": {
  "kernelspec": {
   "display_name": "mosna",
   "language": "python",
   "name": "python3"
  },
  "language_info": {
   "codemirror_mode": {
    "name": "ipython",
    "version": 3
   },
   "file_extension": ".py",
   "mimetype": "text/x-python",
   "name": "python",
   "nbconvert_exporter": "python",
   "pygments_lexer": "ipython3",
   "version": "3.10.13"
  }
 },
 "nbformat": 4,
 "nbformat_minor": 2
}
